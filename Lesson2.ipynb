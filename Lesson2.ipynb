{
  "nbformat": 4,
  "nbformat_minor": 0,
  "metadata": {
    "colab": {
      "name": "Untitled7.ipynb",
      "provenance": [],
      "authorship_tag": "ABX9TyOzKAUOaZ61sATpXgSKrYIu",
      "include_colab_link": true
    },
    "kernelspec": {
      "name": "python3",
      "display_name": "Python 3"
    }
  },
  "cells": [
    {
      "cell_type": "markdown",
      "metadata": {
        "id": "view-in-github",
        "colab_type": "text"
      },
      "source": [
        "<a href=\"https://colab.research.google.com/github/WarwickAI/natural-selection-sim/blob/main/Lesson2.ipynb\" target=\"_parent\"><img src=\"https://colab.research.google.com/assets/colab-badge.svg\" alt=\"Open In Colab\"/></a>"
      ]
    },
    {
      "cell_type": "markdown",
      "metadata": {
        "id": "IplrXSYcAAhI"
      },
      "source": [
        "# Part 1 - Control Flow & Conditionals\r\n",
        "\r\n",
        "### Control Flow\r\n",
        "\r\n",
        "Usually, code in Python runs from the top down. \r\n",
        "\r\n"
      ]
    },
    {
      "cell_type": "code",
      "metadata": {
        "id": "PVnX-xmwAEw9"
      },
      "source": [
        "print(\"this will print first\")\r\n",
        "print(\"this will print second\") "
      ],
      "execution_count": null,
      "outputs": []
    },
    {
      "cell_type": "markdown",
      "metadata": {
        "id": "LYuthGjmAGRH"
      },
      "source": [
        "But it doesn't always have to be like that. We've seen this already, with functions."
      ]
    },
    {
      "cell_type": "code",
      "metadata": {
        "id": "psek-J92AG6g"
      },
      "source": [
        "def myFunction():\r\n",
        "  print(\"this will print second\")\r\n",
        "\r\n",
        "print(\"this will print first\")\r\n",
        "myFunction()"
      ],
      "execution_count": null,
      "outputs": []
    },
    {
      "cell_type": "markdown",
      "metadata": {
        "id": "iXwTi0D1AJoW"
      },
      "source": [
        "Here, we're manipulating the flow of the code. There are other ways we can do this, alongside our functions.\r\n",
        "\r\n",
        "What happens if we have some code that we want to run in a certain situation, and some different code that we want to run in another situation? For example - if it's raining we want to print one message, and if it's not, we want to print another. How would we convert this code to only print one of the statements, instead of both?"
      ]
    },
    {
      "cell_type": "code",
      "metadata": {
        "id": "j58836PZASgP",
        "colab": {
          "base_uri": "https://localhost:8080/"
        },
        "outputId": "87684548-0c17-4c49-fc62-d8c13f586b60"
      },
      "source": [
        "isRaining = True\r\n",
        "\r\n",
        "print(\"Don't forget to bring an umbrella!\")\r\n",
        "print(\"It's not raining at the moment!\")"
      ],
      "execution_count": null,
      "outputs": [
        {
          "output_type": "stream",
          "text": [
            "Don't forget to bring an umbrella!\n",
            "It's not raining at the moment!\n"
          ],
          "name": "stdout"
        }
      ]
    },
    {
      "cell_type": "markdown",
      "metadata": {
        "id": "rjO6HH3SASEm"
      },
      "source": [
        "Recall our discussion of Booleans. We said that sooner or later they were going to prove very useful. if-statements are a great example of that.\r\n",
        "\r\n",
        "A conditional, or \"if-statement\" uses Boolean values to determine which path in the code to take."
      ]
    },
    {
      "cell_type": "code",
      "metadata": {
        "id": "YjTXlpg-AbA7"
      },
      "source": [
        "isRaining = True\r\n",
        "\r\n",
        "if isRaining == True: \r\n",
        "  print(\"Don't forget to bring an umbrella!\")\r\n",
        "else:\r\n",
        "  print(\"It's not raining at the moment!\")"
      ],
      "execution_count": null,
      "outputs": []
    },
    {
      "cell_type": "markdown",
      "metadata": {
        "id": "CNPM1ZFSAjce"
      },
      "source": [
        "The `\"if isRaining == True\"` line here is actually doing:\r\n",
        "\r\n",
        "`if True == True: `\r\n",
        "\r\n",
        "... and since \"`True == True`\" is True, the whole line just ends up being \r\n",
        "\r\n",
        "`\"if True\"`\r\n",
        "\r\n",
        "So instead, we could replace it with just:\r\n",
        "\r\n",
        "`if isRaining:`\r\n",
        "\r\n",
        "... without the \"`== True`\" bit. This is equivalent to:\r\n",
        "\r\n",
        "`if True:`\r\n",
        "\r\n",
        "Bear in mind that it's not just Boolean True or False that we can use in conditionals. If we use other variable types in a Boolean context (i.e. as the condition in a conditional), they will evaulate to True or False. For example;\r\n",
        "\r\n",
        "```\r\n",
        "isRaining = 0  # Hint: This one evaluates to False          \r\n",
        "isRaining = \"\"               \r\n",
        "isRaining = 1                  \r\n",
        "isRaining = 3249             \r\n",
        "isRaining = \"is this sentence truthy or falsey?!\" \r\n",
        "isRaining = (1 == 1)\r\n",
        "isRaining = (3 > 2)\r\n",
        "```\r\n",
        "\r\n"
      ]
    },
    {
      "cell_type": "markdown",
      "metadata": {
        "id": "_WOVvUCSDixV"
      },
      "source": [
        "**Exercise 1**) Take the following code and swap the value of isRaining to the different values above. Which values evaluate to True, and which evaluate to False?"
      ]
    },
    {
      "cell_type": "code",
      "metadata": {
        "id": "IYGTEhtRDnJA"
      },
      "source": [
        "isRaining = 0\r\n",
        "\r\n",
        "if isRaining == True:  \r\n",
        "    print(\"Don't forget to bring an umbrella!\")\r\n",
        "else:   \r\n",
        "    print(\"It's not raining at the moment\") "
      ],
      "execution_count": null,
      "outputs": []
    },
    {
      "cell_type": "markdown",
      "metadata": {
        "id": "QZsp1rF6DqPc"
      },
      "source": [
        "### More Conditionals, More Operators! \r\n",
        "\r\n",
        "As well as the else, we also have elif which stands for \"else if\", which will run if the first \"if\" is not matched. \r\n",
        "\r\n",
        "Rather than just acting like a catch-all like else, it evaluates a different condition. \r\n",
        "\r\n",
        "You can add as many elif statements as you like to your conditional:"
      ]
    },
    {
      "cell_type": "code",
      "metadata": {
        "id": "7b_bcCmMDuIB"
      },
      "source": [
        "a = 3\r\n",
        "\r\n",
        "if a == 1:\r\n",
        "  print(\"if a is 1, do this\")\r\n",
        "elif a == 2:\r\n",
        "  print(\"or if a is 2, do this\")\r\n",
        "elif a == 3:\r\n",
        "  print(\"and if a is 3, do this\")\r\n",
        "else: \r\n",
        "  print(\"if a is anything else, print this\")"
      ],
      "execution_count": null,
      "outputs": []
    },
    {
      "cell_type": "markdown",
      "metadata": {
        "id": "6V2374OqECql"
      },
      "source": [
        "Further, we can apply some logical operators to Booleans. \r\n",
        "\r\n",
        "\"and\" means that both the variable to the left and the right have to evaluate to True (remember these don't have to explicitly be Booleans)\r\n",
        "\r\n",
        "\"or\" means that either the variable/value to the left or right has to be True, but not necessarily both."
      ]
    },
    {
      "cell_type": "code",
      "metadata": {
        "id": "qF2NVqXTEEU3",
        "colab": {
          "base_uri": "https://localhost:8080/"
        },
        "outputId": "61e7ea4d-6385-4d19-ace7-aff11178c95c"
      },
      "source": [
        "a = True\r\n",
        "b = False\r\n",
        "\r\n",
        "if a and b:\r\n",
        "  print(\"A and b are both true!\")\r\n",
        "\r\n",
        "if a or b:\r\n",
        "  print(\"a or b is true but it doesn't matter which!\")\r\n",
        "\r\n",
        "if not (b == True):\r\n",
        "  print(\"b is not true\")"
      ],
      "execution_count": null,
      "outputs": [
        {
          "output_type": "stream",
          "text": [
            "a or b is true but it doesn't matter which!\n",
            "b is not true\n"
          ],
          "name": "stdout"
        }
      ]
    },
    {
      "cell_type": "markdown",
      "metadata": {
        "id": "p62K3iwVFdE4"
      },
      "source": [
        "# Part 2 - Iteration\r\n",
        "\r\n",
        "Think about what you would do, given your current knowledge of Python, if you were asked to print every integer from 1 to 10?\r\n",
        "\r\n",
        "You could, of course, write out 10 print statements. But this is the perfect use case for a looping structure. Loops, such as for-loops, simply execute a series of statements for every item in a list. That list can just be a list of numbers, say from 0 to 10. \r\n",
        "\r\n",
        "Here's an example:"
      ]
    },
    {
      "cell_type": "code",
      "metadata": {
        "id": "M4TE6px0Ff8r"
      },
      "source": [
        "for x in range(0, 10):\r\n",
        "  print(x)"
      ],
      "execution_count": null,
      "outputs": []
    },
    {
      "cell_type": "markdown",
      "metadata": {
        "id": "Vya73fXyFkeK"
      },
      "source": [
        "Notice that the upper limit, 10, doesn't get printed, but the lower limit, 0, does. This is because the range() function is inclusive of the start number and exclusive of the end number."
      ]
    },
    {
      "cell_type": "code",
      "metadata": {
        "id": "TvXzKsuqFluL"
      },
      "source": [
        "for x in range(10):\r\n",
        "  print(x)"
      ],
      "execution_count": null,
      "outputs": []
    },
    {
      "cell_type": "markdown",
      "metadata": {
        "id": "c3GtDkoCFpde"
      },
      "source": [
        "Note that the code above, with just one argument, will return the same thing, as Python will start iterating from 0 by default if no start argument is given. \r\n",
        "\r\n",
        "You can also use for loops in many other different situations, for example:"
      ]
    },
    {
      "cell_type": "code",
      "metadata": {
        "id": "ENtl3OTTFqDa"
      },
      "source": [
        "for x in \"hello\":\r\n",
        "  print(x)\r\n",
        "  "
      ],
      "execution_count": null,
      "outputs": []
    },
    {
      "cell_type": "markdown",
      "metadata": {
        "id": "2mQ2kPdKFuPz"
      },
      "source": [
        "**Exercise 2**) Write a function that takes a number from the user, and prints every second-tetration (a number to the power of itself e.g. 10^10) from 1 up to and including the number. For example, for the number 10, your function should print:\r\n",
        "\r\n",
        "1\r\n",
        "4\r\n",
        "27\r\n",
        "256\r\n",
        "3125\r\n",
        "46656\r\n",
        "8235543\r\n",
        "16777216\r\n",
        "387420489\r\n",
        "1000000000"
      ]
    },
    {
      "cell_type": "code",
      "metadata": {
        "id": "Onl1xWTWFwIS"
      },
      "source": [
        "# write your function here. \r\n",
        "# hint: You'll need to use input(), then use a for-loop)"
      ],
      "execution_count": null,
      "outputs": []
    },
    {
      "cell_type": "markdown",
      "metadata": {
        "id": "3I_qFYSSGXOQ"
      },
      "source": [
        "**Exercise 4**) We need to write a function that populates our map with some food. \r\n",
        "\r\n",
        "Create a function `add_food(num_food, verbose)` that takes two arguments:\r\n",
        "1.   `num_food` count of food to add, and \r\n",
        "2.   a boolean called `verbose` which tells us whether we want to print details or not \r\n",
        "\r\n",
        "Call the function `create_food()` the number of times specified by num_food, passing it a random value between 1-20 for x and y. Make sure you pass verbose to the `create_food()` function too. \r\n"
      ]
    },
    {
      "cell_type": "code",
      "metadata": {
        "id": "K5GJYCtSKKCU"
      },
      "source": [
        "import random\r\n",
        "\r\n",
        "def add_food(num_food, verbose):\r\n",
        "  # code here\r\n",
        "\r\n",
        "def create_food(x, y, verbose):\r\n",
        "  if verbose:\r\n",
        "    print(\"Adding piece of food at (\" + str(x) + \",\" + str(y) + \")\")\r\n",
        "\r\n",
        "add_food(10, True)\r\n"
      ],
      "execution_count": null,
      "outputs": []
    }
  ]
}
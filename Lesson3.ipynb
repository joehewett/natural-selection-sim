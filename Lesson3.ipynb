{
  "nbformat": 4,
  "nbformat_minor": 0,
  "metadata": {
    "colab": {
      "name": "lesson-3.ipynb",
      "provenance": [],
      "collapsed_sections": [],
      "authorship_tag": "ABX9TyPw7A3Oc7prDM1FSVka3D64",
      "include_colab_link": true
    },
    "kernelspec": {
      "name": "python3",
      "display_name": "Python 3"
    }
  },
  "cells": [
    {
      "cell_type": "markdown",
      "metadata": {
        "id": "view-in-github",
        "colab_type": "text"
      },
      "source": [
        "<a href=\"https://colab.research.google.com/github/WarwickAI/natural-selection-sim/blob/main/Lesson3.ipynb\" target=\"_parent\"><img src=\"https://colab.research.google.com/assets/colab-badge.svg\" alt=\"Open In Colab\"/></a>"
      ]
    },
    {
      "cell_type": "markdown",
      "metadata": {
        "id": "nYLhLP4E2aV3"
      },
      "source": [
        "<p align=\"center\">\r\n",
        "    <img src=\"data:image/png;base64,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\" alt=\"WAI Logo\"/>\r\n",
        "</p>\r\n",
        "\r\n",
        "# Lesson 3\r\n",
        "As you have learned in the the first lesson, variables are just containers for storing values of a certain type. \r\n",
        "\r\n",
        "In this lesson, we will cover some special types: *Lists* and *Dictionaries*.\r\n"
      ]
    },
    {
      "cell_type": "markdown",
      "metadata": {
        "id": "yHqELauS4Uns"
      },
      "source": [
        "## Lists\r\n",
        "A list is simply a series of *ordered* containers (memory locations) which can hold a certain value.\r\n",
        "\r\n",
        "In Python, to declare a list we use `[` `]`. E.g.\r\n",
        "\r\n",
        "```python\r\n",
        "shopping_list = []\r\n",
        "```\r\n",
        "\r\n",
        "The code above creates an empty list and stores it in **shopping_list**.\r\n",
        "Obviously an empty list is not of much use so let's add some elements.\r\n",
        "\r\n",
        "```python\r\n",
        "shopping_list = [\"bread\", \"cheese\", \"butter\"]\r\n",
        "```\r\n",
        "\r\n",
        "### Operations\r\n",
        "There are many operations which can be executed on a list.\r\n",
        "In this section we will cover some of the main operations:\r\n",
        "\r\n",
        "*   append\r\n",
        "*   insert\r\n",
        "*   remove\r\n",
        "*   clear\r\n",
        "*   length\r\n",
        "*   isEmpty\r\n",
        "*   index\r\n",
        "\r\n",
        "If you are curious you can find more operations [here](https://docs.python.org/3.8/tutorial/datastructures.html).\r\n",
        "\r\n"
      ]
    },
    {
      "cell_type": "markdown",
      "metadata": {
        "id": "-KFyK6Xm4aNU"
      },
      "source": [
        "## Dictionaries\r\n",
        "Dictionaries are slightly move involved than lists.\r\n",
        "\r\n"
      ]
    }
  ]
}